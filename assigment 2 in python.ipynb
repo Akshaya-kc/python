{
 "cells": [
  {
   "cell_type": "code",
   "execution_count": 1,
   "id": "6a5c4724-d427-437c-b4ab-d14ab55dca87",
   "metadata": {},
   "outputs": [],
   "source": [
    "##list"
   ]
  },
  {
   "cell_type": "code",
   "execution_count": 3,
   "id": "526e4234-a60f-4b10-ada8-eaa0f2794fa0",
   "metadata": {},
   "outputs": [],
   "source": [
    "NO=[56,76,87,94,89]"
   ]
  },
  {
   "cell_type": "code",
   "execution_count": 7,
   "id": "4d042584-c91f-49e5-8318-2bab130463e2",
   "metadata": {},
   "outputs": [
    {
     "name": "stdout",
     "output_type": "stream",
     "text": [
      "[56, 76, 87, 94, 89]\n"
     ]
    }
   ],
   "source": [
    "print (NO)"
   ]
  },
  {
   "cell_type": "code",
   "execution_count": 11,
   "id": "cf615f0a-0853-4fce-90b5-eb798c48891b",
   "metadata": {},
   "outputs": [],
   "source": [
    "NO.extend([34,23,12])"
   ]
  },
  {
   "cell_type": "code",
   "execution_count": 15,
   "id": "58f2be6d-5669-4126-8b7f-509e50415b78",
   "metadata": {},
   "outputs": [
    {
     "name": "stdout",
     "output_type": "stream",
     "text": [
      "[56, 76, 87, 94, 89, 34, 23, 12]\n"
     ]
    }
   ],
   "source": [
    "print( NO)"
   ]
  },
  {
   "cell_type": "code",
   "execution_count": 17,
   "id": "8887903b-9a9f-48a5-af4d-f56352e8b0a9",
   "metadata": {},
   "outputs": [
    {
     "name": "stdout",
     "output_type": "stream",
     "text": [
      "56\n",
      "76\n",
      "87\n",
      "94\n",
      "89\n",
      "34\n",
      "23\n",
      "12\n"
     ]
    }
   ],
   "source": [
    "for i in NO:\n",
    "    print(i)"
   ]
  },
  {
   "cell_type": "code",
   "execution_count": 19,
   "id": "b27d042b-499f-4090-82b6-ffe1003d658e",
   "metadata": {},
   "outputs": [],
   "source": [
    "##dictionary"
   ]
  },
  {
   "cell_type": "code",
   "execution_count": 21,
   "id": "28dd439e-0271-4f75-95c2-ee313e6a114a",
   "metadata": {},
   "outputs": [],
   "source": [
    "D={\"name\":\"john\",\"age\":25,\"adderess\":\"new york\"}"
   ]
  },
  {
   "cell_type": "code",
   "execution_count": 23,
   "id": "a1dced71-dc81-4317-b3b3-30b18d7cbf5d",
   "metadata": {},
   "outputs": [
    {
     "name": "stdout",
     "output_type": "stream",
     "text": [
      "{'name': 'john', 'age': 25, 'adderess': 'new york'}\n"
     ]
    }
   ],
   "source": [
    "print(D)"
   ]
  },
  {
   "cell_type": "code",
   "execution_count": 29,
   "id": "313d8e94-cbed-40c8-9d82-be20c08c06d4",
   "metadata": {},
   "outputs": [],
   "source": [
    "D[\"phone\"]=1234567890"
   ]
  },
  {
   "cell_type": "code",
   "execution_count": 31,
   "id": "5bc1c835-307b-44f2-a1ca-44b7b81dd79e",
   "metadata": {},
   "outputs": [
    {
     "name": "stdout",
     "output_type": "stream",
     "text": [
      "{'name': 'john', 'age': 25, 'adderess': 'new york', 'phone': 1234567890}\n"
     ]
    }
   ],
   "source": [
    "print(D)"
   ]
  },
  {
   "cell_type": "code",
   "execution_count": 35,
   "id": "0550ea44-c1f2-4fc6-be72-c99e325af2c4",
   "metadata": {},
   "outputs": [],
   "source": [
    "####set"
   ]
  },
  {
   "cell_type": "code",
   "execution_count": 37,
   "id": "f85347c4-2a40-4e44-9965-5687c4734e74",
   "metadata": {},
   "outputs": [],
   "source": [
    "S={1,2,3,4,5}"
   ]
  },
  {
   "cell_type": "code",
   "execution_count": 49,
   "id": "38cf9727-5084-4754-bf3b-2f15130f562c",
   "metadata": {},
   "outputs": [
    {
     "name": "stdout",
     "output_type": "stream",
     "text": [
      "{1, 2, 3, 4, 5}\n"
     ]
    }
   ],
   "source": [
    "print(S)"
   ]
  },
  {
   "cell_type": "code",
   "execution_count": 51,
   "id": "bbed9bb0-9829-464b-b65d-5ac0da385eb7",
   "metadata": {},
   "outputs": [],
   "source": [
    "S.add(6)"
   ]
  },
  {
   "cell_type": "code",
   "execution_count": 53,
   "id": "1aa4415c-3dd3-4708-8cbd-4708de8ce9d0",
   "metadata": {},
   "outputs": [
    {
     "name": "stdout",
     "output_type": "stream",
     "text": [
      "{1, 2, 3, 4, 5, 6}\n"
     ]
    }
   ],
   "source": [
    "print(S)"
   ]
  },
  {
   "cell_type": "code",
   "execution_count": 55,
   "id": "fa330660-f1d8-42b7-bb12-075366616be1",
   "metadata": {},
   "outputs": [],
   "source": [
    "S.remove(6)"
   ]
  },
  {
   "cell_type": "code",
   "execution_count": 57,
   "id": "b29f83bf-e039-49c8-8c07-2af89aebe9ee",
   "metadata": {},
   "outputs": [
    {
     "name": "stdout",
     "output_type": "stream",
     "text": [
      "{1, 2, 3, 4, 5}\n"
     ]
    }
   ],
   "source": [
    "print(S)"
   ]
  },
  {
   "cell_type": "code",
   "execution_count": 59,
   "id": "cd55086b-8df5-4e65-9c83-714721ff700b",
   "metadata": {},
   "outputs": [],
   "source": [
    "##tuple"
   ]
  },
  {
   "cell_type": "code",
   "execution_count": 61,
   "id": "5dcc9e38-1ba0-4baa-bbbb-7295b6a2230d",
   "metadata": {},
   "outputs": [],
   "source": [
    "T=1,2,3,4"
   ]
  },
  {
   "cell_type": "code",
   "execution_count": 63,
   "id": "f2005112-75a4-4ae4-ae66-7bd7dfbe2a14",
   "metadata": {},
   "outputs": [
    {
     "name": "stdout",
     "output_type": "stream",
     "text": [
      "(1, 2, 3, 4)\n"
     ]
    }
   ],
   "source": [
    "print(T)"
   ]
  },
  {
   "cell_type": "code",
   "execution_count": 69,
   "id": "e9816da4-f0ba-46e2-ab5d-e685268cab60",
   "metadata": {},
   "outputs": [
    {
     "data": {
      "text/plain": [
       "4"
      ]
     },
     "execution_count": 69,
     "metadata": {},
     "output_type": "execute_result"
    }
   ],
   "source": [
    "len(T)"
   ]
  },
  {
   "cell_type": "code",
   "execution_count": null,
   "id": "5a398b2f-45ae-4626-acf5-4e5364261b66",
   "metadata": {},
   "outputs": [],
   "source": []
  }
 ],
 "metadata": {
  "kernelspec": {
   "display_name": "Python [conda env:base] *",
   "language": "python",
   "name": "conda-base-py"
  },
  "language_info": {
   "codemirror_mode": {
    "name": "ipython",
    "version": 3
   },
   "file_extension": ".py",
   "mimetype": "text/x-python",
   "name": "python",
   "nbconvert_exporter": "python",
   "pygments_lexer": "ipython3",
   "version": "3.12.7"
  }
 },
 "nbformat": 4,
 "nbformat_minor": 5
}
