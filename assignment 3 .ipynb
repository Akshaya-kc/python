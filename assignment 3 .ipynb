{
 "cells": [
  {
   "cell_type": "markdown",
   "id": "f3e68b0e-e14a-4d73-a081-028e993f9582",
   "metadata": {},
   "source": [
    "##1  "
   ]
  },
  {
   "cell_type": "code",
   "execution_count": 1,
   "id": "fa2501d2-2059-44d7-b855-2d256bc8f476",
   "metadata": {},
   "outputs": [],
   "source": [
    "# monthnames.py"
   ]
  },
  {
   "cell_type": "code",
   "execution_count": 2,
   "id": "d675c38e-99f8-402c-ac02-95e54099a9e2",
   "metadata": {},
   "outputs": [
    {
     "name": "stdin",
     "output_type": "stream",
     "text": [
      "enter the month: 6\n"
     ]
    },
    {
     "name": "stdout",
     "output_type": "stream",
     "text": [
      "month 6 is June\n"
     ]
    }
   ],
   "source": [
    "month=int(input(\"enter the month:\"))\n",
    "if month==1: \n",
    "    print (\"month 1 is January\")\n",
    "elif month==2:\n",
    "    print(\"month 2 is February\")\n",
    "elif month==3:\n",
    "    print(\"month 3 is March\")  \n",
    "elif month==4:\n",
    "    print(\"month 4 is April\")\n",
    "elif month==5:\n",
    "    print(\"month 5 is May\")\n",
    "elif month==6:\n",
    "    print(\"month 6 is June\") \n",
    "elif month==7:\n",
    "    print(\"month 7 is July\")\n",
    "elif month==8:\n",
    "    print(\"month 8 is August\")\n",
    "elif month==9:\n",
    "    print(\"month 9 is September\")\n",
    "elif month==10:\n",
    "    print(\"month 10 is October\")\n",
    "elif month==11:\n",
    "    print(\"month 11 is November\")\n",
    "elif month==12:\n",
    "    print(\"month 12 is December\")\n",
    "else:\n",
    "    print(\"Not Valid Input\")\n",
    "       "
   ]
  },
  {
   "cell_type": "markdown",
   "id": "48d459f0-6d70-4277-963d-39645e648ec5",
   "metadata": {},
   "source": [
    "##2"
   ]
  },
  {
   "cell_type": "code",
   "execution_count": 4,
   "id": "7298af15-b6c6-47a4-9182-b978de161ab1",
   "metadata": {},
   "outputs": [
    {
     "name": "stdin",
     "output_type": "stream",
     "text": [
      "Enter Your Age: 56\n"
     ]
    },
    {
     "name": "stdout",
     "output_type": "stream",
     "text": [
      "Your Ticket Costs 6 pounds\n"
     ]
    }
   ],
   "source": [
    "Age=int(input(\"Enter Your Age:\"))\n",
    "if (Age<16):\n",
    "  print(\"Your Ticket Costs 3 pounds\")\n",
    "elif (Age >=60):\n",
    "  print(\"Your Ticket Costs 2 pounds\")\n",
    "else:\n",
    "    print(\"Your Ticket Costs 6 pounds\")\n",
    "    \n"
   ]
  },
  {
   "cell_type": "markdown",
   "id": "b415a741-0f5e-4878-b9aa-57995382cf7f",
   "metadata": {},
   "source": [
    "##3"
   ]
  },
  {
   "cell_type": "code",
   "execution_count": 3,
   "id": "8146aeea-15b9-4165-b86f-1dbfef9e4049",
   "metadata": {},
   "outputs": [],
   "source": [
    "#body mass index.py"
   ]
  },
  {
   "cell_type": "code",
   "execution_count": 6,
   "id": "22aaf0ad-4fa1-481d-b221-9962222af0b9",
   "metadata": {},
   "outputs": [
    {
     "name": "stdin",
     "output_type": "stream",
     "text": [
      "enter your weight in(kg): 78\n",
      "enter your height in(m): 1.6\n"
     ]
    },
    {
     "name": "stdout",
     "output_type": "stream",
     "text": [
      "your BMI is: 30.468749999999993 you are in the 'obese' range\n"
     ]
    }
   ],
   "source": [
    "Weight=float(input(\"enter your weight in(kg):\"))\n",
    "Height=float(input(\"enter your height in(m):\"))\n",
    "BMI=Weight/(Height*Height)\n",
    "if (BMI<18.5):\n",
    "    print(\"your BMI is:\",BMI,\"you are in the 'under weight' range\")\n",
    "elif (18.5<BMI<24.9):\n",
    "      print(\"your BMI is:\",BMI,\"you are in the 'normal' range\")\n",
    "elif (25<BMI<29.9):\n",
    "       print(\"your BMI is:\",BMI,\"you are in the 'over weight' range\")\n",
    "else:\n",
    "       print(\"your BMI is:\",BMI,\"you are in the 'obese' range\")\n",
    "\n"
   ]
  },
  {
   "cell_type": "markdown",
   "id": "c5deca8a-7929-4c49-957b-4d7167327931",
   "metadata": {},
   "source": [
    "##4"
   ]
  },
  {
   "cell_type": "code",
   "execution_count": 7,
   "id": "44e9a397-27ec-4bfa-99e8-ad61388bc973",
   "metadata": {},
   "outputs": [
    {
     "name": "stdin",
     "output_type": "stream",
     "text": [
      "enter 1st no: 23\n",
      "enter 2nd no: 67\n",
      "enter 3rd no: -56\n"
     ]
    },
    {
     "name": "stdout",
     "output_type": "stream",
     "text": [
      "67.0\n"
     ]
    }
   ],
   "source": [
    "a=float(input(\"enter 1st no:\"))\n",
    "b= float(input(\"enter 2nd no:\"))\n",
    "c=float(input(\"enter 3rd no:\"))  \n",
    "if (a>b)and(a>c):\n",
    "      ptint (a)\n",
    "elif(b>c):\n",
    "      print (b)\n",
    "else:\n",
    "     print (c)\n",
    "       "
   ]
  },
  {
   "cell_type": "markdown",
   "id": "41d2ef86-1030-4e66-90a9-c46b535afe06",
   "metadata": {},
   "source": [
    "##5"
   ]
  },
  {
   "cell_type": "code",
   "execution_count": 8,
   "id": "3be0c4af-8eb6-4bf1-9204-45b6dbec909a",
   "metadata": {},
   "outputs": [
    {
     "name": "stdin",
     "output_type": "stream",
     "text": [
      "enter  no: 7\n"
     ]
    },
    {
     "name": "stdout",
     "output_type": "stream",
     "text": [
      "7 ! = 5040\n"
     ]
    }
   ],
   "source": [
    "a=int(input(\"enter  no:\"))\n",
    "f=1\n",
    "for i in range(1,a+1):\n",
    "   f=f*i\n",
    "print(a,\"!\",\"=\",f)\n",
    "    "
   ]
  },
  {
   "cell_type": "markdown",
   "id": "e1a14678-15f8-45f7-9ee5-378776d1d913",
   "metadata": {},
   "source": [
    "##6"
   ]
  },
  {
   "cell_type": "code",
   "execution_count": 9,
   "id": "cac1c917-80ec-4488-bde6-bc543bf3ff8c",
   "metadata": {},
   "outputs": [
    {
     "name": "stdin",
     "output_type": "stream",
     "text": [
      "enter a no: 4798\n"
     ]
    },
    {
     "name": "stdout",
     "output_type": "stream",
     "text": [
      "reverse of the no: 8974\n"
     ]
    }
   ],
   "source": [
    "n=int(input(\"enter a no:\"))\n",
    "reverse=0\n",
    "while (n>0):\n",
    "    reminder=n%10\n",
    "    reverse=reverse*10+reminder\n",
    "    n=int(n/10)\n",
    "print(\"reverse of the no:\",reverse)"
   ]
  },
  {
   "cell_type": "markdown",
   "id": "7c2708d3-a634-4e99-9c1b-b6c8a1681d68",
   "metadata": {},
   "source": [
    "##7"
   ]
  },
  {
   "cell_type": "code",
   "execution_count": 10,
   "id": "2d7195cc-0bed-4410-9f07-67bee6714fde",
   "metadata": {},
   "outputs": [
    {
     "name": "stdin",
     "output_type": "stream",
     "text": [
      "enter no: 4\n",
      "how many multiples want to print 7\n"
     ]
    },
    {
     "name": "stdout",
     "output_type": "stream",
     "text": [
      "1 * 4 = 4\n",
      "2 * 4 = 8\n",
      "3 * 4 = 12\n",
      "4 * 4 = 16\n",
      "5 * 4 = 20\n",
      "6 * 4 = 24\n",
      "7 * 4 = 28\n"
     ]
    }
   ],
   "source": [
    "n=int(input(\"enter no:\"))\n",
    "a=int(input(\"how many multiples want to print\"))\n",
    "for i in range(1,a+1):\n",
    "    print(i,\"*\",n,\"=\",i*n)"
   ]
  },
  {
   "cell_type": "markdown",
   "id": "7bea1989-597b-41d9-ba39-fe1eb5a520d8",
   "metadata": {},
   "source": [
    "##8"
   ]
  },
  {
   "cell_type": "code",
   "execution_count": 48,
   "id": "dfea46bf-80d7-47fe-b659-2b6f656c3649",
   "metadata": {},
   "outputs": [
    {
     "name": "stdin",
     "output_type": "stream",
     "text": [
      "enter a word: tree\n",
      "Enter a word: time\n"
     ]
    },
    {
     "name": "stdout",
     "output_type": "stream",
     "text": [
      "time\n"
     ]
    },
    {
     "name": "stdin",
     "output_type": "stream",
     "text": [
      "Enter a word: done\n"
     ]
    },
    {
     "name": "stdout",
     "output_type": "stream",
     "text": [
      "DONE\n"
     ]
    }
   ],
   "source": [
    "a=input(\"enter a word:\")\n",
    "while a!= \"done\":\n",
    "    a = input(\"Enter a word:\")\n",
    "    if a== \"done\":\n",
    "        print(\"DONE\")\n",
    "        break\n",
    "    print(a)"
   ]
  },
  {
   "cell_type": "markdown",
   "id": "0d15d233-d997-4680-871e-5d8c27308b73",
   "metadata": {},
   "source": [
    "##9"
   ]
  },
  {
   "cell_type": "code",
   "execution_count": 76,
   "id": "f974c1d8-a792-4731-bd03-61d677cd4c0c",
   "metadata": {},
   "outputs": [
    {
     "name": "stdout",
     "output_type": "stream",
     "text": [
      "1\n",
      "2\n",
      "Fizz\n",
      "4\n",
      "Buzz\n",
      "Fizz\n",
      "7\n",
      "8\n",
      "Fizz\n",
      "Buzz\n"
     ]
    }
   ],
   "source": [
    "for i in range(1,11):\n",
    " if i%3==0 and i%5==0:\n",
    "    print(\"FizzBuzz\")\n",
    " elif i%3==0:\n",
    "    print(\"Fizz\")\n",
    " elif i%5==0:\n",
    "    print(\"Buzz\")\n",
    " else:\n",
    "  print(i)\n",
    "\n"
   ]
  },
  {
   "cell_type": "markdown",
   "id": "baadf076-4152-4d10-8749-7ad111207f7f",
   "metadata": {},
   "source": [
    "##10"
   ]
  },
  {
   "cell_type": "code",
   "execution_count": 166,
   "id": "8beb70d5-908f-41f0-997b-51e8c3d37978",
   "metadata": {
    "scrolled": true
   },
   "outputs": [
    {
     "name": "stdout",
     "output_type": "stream",
     "text": [
      "5 4 3 2 1 \n",
      "4 3 2 1 \n",
      "3 2 1 \n",
      "2 1 \n",
      "1 \n"
     ]
    }
   ],
   "source": [
    "for i in range (5,0,-1):\n",
    " for j in range(i,0,-1):\n",
    "  print (j,\"\",end=\"\")\n",
    " print()"
   ]
  }
 ],
 "metadata": {
  "kernelspec": {
   "display_name": "Python [conda env:base] *",
   "language": "python",
   "name": "conda-base-py"
  },
  "language_info": {
   "codemirror_mode": {
    "name": "ipython",
    "version": 3
   },
   "file_extension": ".py",
   "mimetype": "text/x-python",
   "name": "python",
   "nbconvert_exporter": "python",
   "pygments_lexer": "ipython3",
   "version": "3.12.7"
  }
 },
 "nbformat": 4,
 "nbformat_minor": 5
}
