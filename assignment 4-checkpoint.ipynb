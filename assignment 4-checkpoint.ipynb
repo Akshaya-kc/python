{
 "cells": [
  {
   "cell_type": "code",
   "execution_count": null,
   "id": "6baa958b-f938-402a-b0a4-d3ad32c9cb28",
   "metadata": {},
   "outputs": [],
   "source": [
    "1.What does the len() function do in Python? Write a code example using len() to find the length of a list.  "
   ]
  },
  {
   "cell_type": "code",
   "execution_count": null,
   "id": "32148b6d-549e-4548-b0d6-5e3fb05ac9ec",
   "metadata": {},
   "outputs": [],
   "source": [
    " lenth Function in Python\n",
    " The len() function returns the number of items in an object like a list, string, tuple, etc.\n"
   ]
  },
  {
   "cell_type": "code",
   "execution_count": 25,
   "id": "b0caa7ff-0cee-4679-b244-e30b3b73edad",
   "metadata": {},
   "outputs": [
    {
     "name": "stdout",
     "output_type": "stream",
     "text": [
      "Length of the list: 3\n"
     ]
    }
   ],
   "source": [
    "A=['mango','apple','pine_apple']\n",
    "print(\"Length of the list:\", len(A))\n"
   ]
  },
  {
   "cell_type": "raw",
   "id": "70ac623a-13bb-4c8a-845d-73615200b48a",
   "metadata": {},
   "source": [
    "2.Write a Python function greet(name) that takes a person's name as input and prints \"Hello, [name]!\"."
   ]
  },
  {
   "cell_type": "code",
   "execution_count": 35,
   "id": "4837f2f6-728c-4f9f-aabe-167902169a91",
   "metadata": {},
   "outputs": [
    {
     "name": "stdout",
     "output_type": "stream",
     "text": [
      " \"Hello, AKSHAYA!\" \n"
     ]
    }
   ],
   "source": [
    "def greet(name):\n",
    " print(f' \"Hello, {name}!\" ')\n",
    "greet(\"AKSHAYA\")"
   ]
  },
  {
   "cell_type": "raw",
   "id": "ff8ba283-de96-4846-839a-487874e30dff",
   "metadata": {},
   "source": [
    "3 .Write a Python function find_maximum(numbers) that takes a list of integers and returns the maximum value without using the built-in max() function. use a loop for iterate through the list and compare values"
   ]
  },
  {
   "cell_type": "code",
   "execution_count": 81,
   "id": "c15d6cb8-f45f-40c4-a55f-983309506c90",
   "metadata": {},
   "outputs": [],
   "source": [
    "def find_maximum(list):\n",
    "    max_num = list[0]\n",
    "    for i in list:\n",
    "        if i > max_num:\n",
    "            max_num = i\n",
    "    return max_num"
   ]
  },
  {
   "cell_type": "code",
   "execution_count": 87,
   "id": "07e15879-760f-4d75-920b-a53ea9afda56",
   "metadata": {},
   "outputs": [
    {
     "data": {
      "text/plain": [
       "789"
      ]
     },
     "execution_count": 87,
     "metadata": {},
     "output_type": "execute_result"
    }
   ],
   "source": [
    "list=[4,56,789,-89,567]\n",
    "find_maximum(list)"
   ]
  },
  {
   "cell_type": "raw",
   "id": "b0f74aac-67a2-46e2-99d8-a7c00f3deb19",
   "metadata": {},
   "source": [
    "4.Explain the difference between local and global variables in a Python function. Write a program where a global variable and a local variable have the same name and show how Python differentiates between them."
   ]
  },
  {
   "cell_type": "raw",
   "id": "9f79985f-6d45-4dbe-afdc-eace34a3c4c0",
   "metadata": {},
   "source": [
    "Global variables are declared outside of any function and can be accessed inside functions.\n",
    "Local variables are declared within a function and can only be used inside that function.\n"
   ]
  },
  {
   "cell_type": "code",
   "execution_count": 4,
   "id": "6658ecb0-b062-46b2-947c-c8b847378051",
   "metadata": {},
   "outputs": [
    {
     "name": "stdout",
     "output_type": "stream",
     "text": [
      "Inside function, local x = 50\n",
      "Outside function, global x = 100\n"
     ]
    }
   ],
   "source": [
    "x = 100  # Global variable\n",
    "\n",
    "def a():\n",
    "    x = 50  # Local variable \n",
    "    print(\"Inside function, local x =\", x)\n",
    "\n",
    "a()\n",
    "print(\"Outside function, global x =\", x)\n",
    "\n",
    "\n"
   ]
  },
  {
   "cell_type": "raw",
   "id": "00b8fb68-38a8-47a7-96b8-b1ac769afab2",
   "metadata": {},
   "source": [
    "5.Create a function calculate_area(length, width=5) that calculates the area of a rectangle. If only the length is provided, the function should assume  the width is 5. Show how the function behaves when called with and without the width argument. "
   ]
  },
  {
   "cell_type": "code",
   "execution_count": 121,
   "id": "0f01f6eb-e469-40bb-99dc-e40b2919da44",
   "metadata": {},
   "outputs": [
    {
     "name": "stdout",
     "output_type": "stream",
     "text": [
      "Area (length=10, width=4): 40\n",
      "Area (length=10): 50\n"
     ]
    }
   ],
   "source": [
    "def calculate_area(length, width=5):\n",
    "    return length * width\n",
    "\n",
    "# with length and width\n",
    "print(\"Area (length=10, width=4):\", calculate_area(10, 4)) \n",
    "\n",
    "# with length ,width=5 \n",
    "print(\"Area (length=10):\", calculate_area(10))  "
   ]
  }
 ],
 "metadata": {
  "kernelspec": {
   "display_name": "Python [conda env:base] *",
   "language": "python",
   "name": "conda-base-py"
  },
  "language_info": {
   "codemirror_mode": {
    "name": "ipython",
    "version": 3
   },
   "file_extension": ".py",
   "mimetype": "text/x-python",
   "name": "python",
   "nbconvert_exporter": "python",
   "pygments_lexer": "ipython3",
   "version": "3.12.7"
  }
 },
 "nbformat": 4,
 "nbformat_minor": 5
}
