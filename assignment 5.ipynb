{
 "cells": [
  {
   "cell_type": "markdown",
   "id": "7fb8c730-e5f7-47fb-957c-9d2bcf221940",
   "metadata": {},
   "source": [
    "1.Write a Python program to read a file and display its contents\n"
   ]
  },
  {
   "cell_type": "code",
   "execution_count": 4,
   "id": "529ef6ee-81dd-4101-8bd9-e5e06435e379",
   "metadata": {},
   "outputs": [
    {
     "name": "stdout",
     "output_type": "stream",
     "text": [
      "hai good morning.\n"
     ]
    }
   ],
   "source": [
    "file1=open(\"C:\\\\Users\\\\USER\\\\Desktop\\\\SF ASSIGNMENT 11-TELEPHONIC INTERVIEW.txt\",\"r\")\n",
    "print(file1.read())\n",
    "file1.close()"
   ]
  },
  {
   "cell_type": "raw",
   "id": "0e07cdcb-5e0b-4e35-85db-fef24572dee9",
   "metadata": {},
   "source": [
    "2.Write a Python program to copy the contents of one file to another file "
   ]
  },
  {
   "cell_type": "code",
   "execution_count": 26,
   "id": "2aa3db91-b285-4e6f-bbca-a768a2f7cf6d",
   "metadata": {},
   "outputs": [
    {
     "name": "stdout",
     "output_type": "stream",
     "text": [
      "hai good morning.\n"
     ]
    }
   ],
   "source": [
    "with open(\"C:\\\\Users\\\\USER\\\\Desktop\\\\SF ASSIGNMENT 11-TELEPHONIC INTERVIEW.txt\",\"r\") as source, open(\"C:\\\\Users\\\\USER\\\\Desktop\\\\SF-ASSIGNMENT 4.txt\",\"w\") as destination:\n",
    " destination.write(source.read())\n",
    "f1=open(\"C:\\\\Users\\\\USER\\\\Desktop\\\\SF-ASSIGNMENT 4.txt\",\"r\")\n",
    "print(f1.read())\n",
    "f1.close()\n"
   ]
  },
  {
   "cell_type": "markdown",
   "id": "061f5f68-de5f-4855-acfd-d73e958712a4",
   "metadata": {},
   "source": [
    "3. Write a Python program to read the content of a file and count the total number of words in that file. "
   ]
  },
  {
   "cell_type": "code",
   "execution_count": 38,
   "id": "3ead3dab-5887-40c0-9919-5f85b2cc3d27",
   "metadata": {},
   "outputs": [
    {
     "name": "stdout",
     "output_type": "stream",
     "text": [
      "Total words: 3\n"
     ]
    }
   ],
   "source": [
    "with open(\"C:\\\\Users\\\\USER\\\\Desktop\\\\SF ASSIGNMENT 11-TELEPHONIC INTERVIEW.txt\",\"r\") as f:\n",
    " text=f.read()\n",
    "words=text.split() \n",
    "print(\"Total words:\", len(words))\n",
    "     "
   ]
  },
  {
   "cell_type": "markdown",
   "id": "3b01138f-0786-4ba4-bd43-bddafa8ff5ac",
   "metadata": {},
   "source": [
    "4. Write a Python program that prompts the user to input a string and converts it to an integer. Use try-except blocks to handle any exceptions that might occur  "
   ]
  },
  {
   "cell_type": "code",
   "execution_count": 54,
   "id": "1c9e92d9-8de7-4f94-b576-6f0ced69a245",
   "metadata": {},
   "outputs": [
    {
     "name": "stdin",
     "output_type": "stream",
     "text": [
      "Enter a no:  657\n"
     ]
    },
    {
     "name": "stdout",
     "output_type": "stream",
     "text": [
      "Converted Integer: 657\n"
     ]
    }
   ],
   "source": [
    " try:\n",
    "        value = input(\"Enter a no: \")\n",
    "        number = int(value)\n",
    "        print(\"Converted Integer:\", number)\n",
    "except ValueError:\n",
    "        print(\"Error: Invalid input. Please enter a valid string.\")"
   ]
  },
  {
   "cell_type": "markdown",
   "id": "c2234ecb-7245-41b9-be8f-c460757a3a29",
   "metadata": {},
   "source": [
    "5.Write a Python program that prompts the user to input a list of integers and raises an exception if any of the integers in the list are negative. "
   ]
  },
  {
   "cell_type": "code",
   "execution_count": 68,
   "id": "f44d0e46-9639-41f5-aacc-09d6e03e17ba",
   "metadata": {},
   "outputs": [
    {
     "name": "stdin",
     "output_type": "stream",
     "text": [
      "Enter numbers:  6 8 -78 56\n"
     ]
    },
    {
     "name": "stdout",
     "output_type": "stream",
     "text": [
      "Negative number found!\n"
     ]
    }
   ],
   "source": [
    "try:\n",
    "    numbers = list(map(int, input(\"Enter numbers: \").split()))\n",
    "    for n in numbers:\n",
    "        if n < 0:\n",
    "            raise ValueError(\"Negative number found!\")\n",
    "    print(\"All numbers are positive.\")\n",
    "except ValueError as e:\n",
    "    print(e)\n",
    "    \n",
    "    "
   ]
  },
  {
   "cell_type": "markdown",
   "id": "be6b671c-da66-4dc1-a0a7-0e09c936178e",
   "metadata": {},
   "source": [
    "6. Write a Python program that prompts the user to input a list of integers and computes the average of those integers. Use try-except blocks to handle any exceptions that might occur.use the finally clause to print a message indicating that the program has finished running. "
   ]
  },
  {
   "cell_type": "code",
   "execution_count": 70,
   "id": "099b3725-9c7d-466f-9e68-28db622dc24d",
   "metadata": {},
   "outputs": [
    {
     "name": "stdin",
     "output_type": "stream",
     "text": [
      "Enter numbers:  78 67 56 \n"
     ]
    },
    {
     "name": "stdout",
     "output_type": "stream",
     "text": [
      "Average: 67.0\n",
      "Program finished.\n"
     ]
    }
   ],
   "source": [
    "try:\n",
    "    numbers = list(map(int, input(\"Enter numbers: \").split()))\n",
    "    avg = sum(numbers) / len(numbers)\n",
    "    print(\"Average:\", avg)\n",
    "except Exception as e:\n",
    "    print(\"Error:\", e)\n",
    "finally:\n",
    "    print(\"Program finished.\")\n"
   ]
  },
  {
   "cell_type": "markdown",
   "id": "2c4e6683-33c9-40f8-8f65-cc27580c9e9b",
   "metadata": {},
   "source": [
    "7.Write a Python program that prompts the user to input a filename and writes a string to that file. Use try-except blocks to handle any exceptions that might occur and print a welcome message if there is no exception occurred."
   ]
  },
  {
   "cell_type": "code",
   "execution_count": 1,
   "id": "15ef4066-3971-42c7-8d89-e72bc9acaaa9",
   "metadata": {},
   "outputs": [
    {
     "name": "stdin",
     "output_type": "stream",
     "text": [
      "Enter filename to write to:  C:\\Users\\USER\\Desktop\\SF -ASSIGNMENT 5.txt\n",
      "Enter text to write into the file:  haii\n"
     ]
    },
    {
     "name": "stdout",
     "output_type": "stream",
     "text": [
      "Welcome! The content was written successfully.\n"
     ]
    }
   ],
   "source": [
    "try:\n",
    "    filename = input(\"Enter filename to write to: \")\n",
    "    content = input(\"Enter text to write into the file: \")\n",
    "    \n",
    "    with open(filename, 'w') as file:\n",
    "        file.write(content)\n",
    "    \n",
    "    print(\"Welcome! The content was written successfully.\")\n",
    "except Exception as e:\n",
    "    print(\"An error occurred:\", e)\n",
    "    "
   ]
  }
 ],
 "metadata": {
  "kernelspec": {
   "display_name": "Python [conda env:anaconda3] *",
   "language": "python",
   "name": "conda-env-anaconda3-py"
  },
  "language_info": {
   "codemirror_mode": {
    "name": "ipython",
    "version": 3
   },
   "file_extension": ".py",
   "mimetype": "text/x-python",
   "name": "python",
   "nbconvert_exporter": "python",
   "pygments_lexer": "ipython3",
   "version": "3.12.7"
  }
 },
 "nbformat": 4,
 "nbformat_minor": 5
}
