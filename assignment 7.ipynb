{
 "cells": [
  {
   "cell_type": "raw",
   "id": "f3d49dc3-5f30-4731-8d9f-65e82418e967",
   "metadata": {},
   "source": [
    "1. Create a numpy array containing the numbers from 1 to 10, and then reshape it to a 2x5 matrix."
   ]
  },
  {
   "cell_type": "code",
   "execution_count": 1,
   "id": "a95184f8-7c27-480a-ade8-0ad939309ae5",
   "metadata": {},
   "outputs": [
    {
     "name": "stdout",
     "output_type": "stream",
     "text": [
      "Reshaped Array:\n",
      " [[ 1  2  3  4  5]\n",
      " [ 6  7  8  9 10]]\n"
     ]
    }
   ],
   "source": [
    "import numpy as np\n",
    "\n",
    "A = np.arange(1, 11)        \n",
    "reshaped = A.reshape(2, 5)  \n",
    "print(\"Reshaped Array:\\n\", reshaped)"
   ]
  },
  {
   "cell_type": "raw",
   "id": "4699a626-7b14-4b6a-b121-95d65634de40",
   "metadata": {},
   "source": [
    "2.Create a numpy array containing the numbers from 1 to 20, and then extract the elements between the 5th and 15th index. "
   ]
  },
  {
   "cell_type": "code",
   "execution_count": 5,
   "id": "beeeb4c6-42cd-42fc-8e87-d5ab702d3cf9",
   "metadata": {},
   "outputs": [
    {
     "name": "stdout",
     "output_type": "stream",
     "text": [
      "[ 6  7  8  9 10 11 12 13 14 15 16]\n"
     ]
    }
   ],
   "source": [
    "A = np.arange(1,21)  \n",
    "print(A[5:16] )"
   ]
  },
  {
   "cell_type": "raw",
   "id": "12eb591e-8b70-45c1-937f-5d295faf1dc4",
   "metadata": {},
   "source": [
    "3.Create a Pandas series with the following data: {'apples': 3, 'bananas': 2, 'oranges': 1}. Then, add a new item to the series with the key 'pears' and the value 4"
   ]
  },
  {
   "cell_type": "code",
   "execution_count": 7,
   "id": "b448d74e-e87b-4f8b-a2e7-8b94bf8ac24a",
   "metadata": {},
   "outputs": [
    {
     "name": "stdout",
     "output_type": "stream",
     "text": [
      "apples     3\n",
      "bananas    2\n",
      "oranges    1\n",
      "pears      4\n",
      "dtype: int64\n"
     ]
    }
   ],
   "source": [
    "import pandas as pd\n",
    "\n",
    "data = {'apples': 3, 'bananas': 2, 'oranges': 1}\n",
    "series = pd.Series(data)\n",
    "series['pears'] = 4  \n",
    "print( series)\n"
   ]
  },
  {
   "cell_type": "raw",
   "id": "dbd50248-0d1d-48d5-8386-2afe26c59efb",
   "metadata": {},
   "source": [
    "4.Create a dataframe with the following columns: name, age, and gender. The dataframe should have 10 rows of data. "
   ]
  },
  {
   "cell_type": "code",
   "execution_count": 11,
   "id": "8a6aec32-1b69-4c20-a7c4-c04f6ddd9969",
   "metadata": {},
   "outputs": [
    {
     "name": "stdout",
     "output_type": "stream",
     "text": [
      "DataFrame:\n",
      "        name  age gender\n",
      "0     Alice   25      F\n",
      "1       Anu   30      M\n",
      "2   Charlie   22      M\n",
      "3     David   35      M\n",
      "4     Nithy   28      F\n",
      "5  Franklin   40      M\n",
      "6     Grace   27      F\n",
      "7     Nimmy   31      F\n",
      "8      Nila   29      M\n",
      "9      Janu   26      F\n"
     ]
    }
   ],
   "source": [
    "data = {\n",
    "    'name': ['Alice', 'Anu', 'Charlie', 'David', 'Nithy', 'Franklin', 'Grace', 'Nimmy', 'Nila', 'Janu'],\n",
    "    'age': [25, 30, 22, 35, 28, 40, 27, 31, 29, 26],\n",
    "    'gender': ['F', 'M', 'M', 'M', 'F', 'M', 'F', 'F', 'M', 'F']\n",
    "}\n",
    "df = pd.DataFrame(data)\n",
    "print(\"DataFrame:\\n\", df)"
   ]
  },
  {
   "cell_type": "raw",
   "id": "04b81aeb-ff4f-41de-b88c-65578005bba5",
   "metadata": {},
   "source": [
    "5.Add a new column to the data frame created in question 1, called occupation. The values for this column should be Programmer, Manager, and Analyst, corresponding to the rows in the dataframe."
   ]
  },
  {
   "cell_type": "code",
   "execution_count": 13,
   "id": "106634ba-6c58-4048-befd-9c08d3e4189d",
   "metadata": {},
   "outputs": [
    {
     "name": "stdout",
     "output_type": "stream",
     "text": [
      "DataFrame with Occupation:\n",
      "        name  age gender  occupation\n",
      "0     Alice   25      F  Programmer\n",
      "1       Anu   30      M     Manager\n",
      "2   Charlie   22      M     Analyst\n",
      "3     David   35      M  Programmer\n",
      "4     Nithy   28      F     Manager\n",
      "5  Franklin   40      M     Analyst\n",
      "6     Grace   27      F  Programmer\n",
      "7     Nimmy   31      F     Manager\n",
      "8      Nila   29      M     Analyst\n",
      "9      Janu   26      F  Programmer\n"
     ]
    }
   ],
   "source": [
    "df['occupation'] = ['Programmer', 'Manager', 'Analyst', 'Programmer', 'Manager',\n",
    "                    'Analyst', 'Programmer', 'Manager', 'Analyst', 'Programmer']\n",
    "print(\"DataFrame with Occupation:\\n\", df)"
   ]
  },
  {
   "cell_type": "raw",
   "id": "f78dd337-7b54-44f7-87cf-54555a70dc35",
   "metadata": {},
   "source": [
    "6.Select the rows of the dataframe where the age is greater than or equal to 30"
   ]
  },
  {
   "cell_type": "code",
   "execution_count": 15,
   "id": "8f5b5d07-6509-4cd7-95d6-864e52fdd892",
   "metadata": {},
   "outputs": [
    {
     "name": "stdout",
     "output_type": "stream",
     "text": [
      "Rows where age >= 30:\n",
      "        name  age gender  occupation\n",
      "1       Anu   30      M     Manager\n",
      "3     David   35      M  Programmer\n",
      "5  Franklin   40      M     Analyst\n",
      "7     Nimmy   31      F     Manager\n"
     ]
    }
   ],
   "source": [
    "age_above_30 = df[df['age'] >= 30]\n",
    "print(\"Rows where age >= 30:\\n\", age_above_30)"
   ]
  },
  {
   "cell_type": "raw",
   "id": "a25ab6de-f5e7-4d78-9ed5-cdc81b34bcf4",
   "metadata": {},
   "source": [
    "7.Convert this dataframe to a csv file and read that csv file, finally display the contents.\n"
   ]
  },
  {
   "cell_type": "code",
   "execution_count": 17,
   "id": "67106b0c-4606-487a-b5d9-d3b38a48c04d",
   "metadata": {},
   "outputs": [
    {
     "name": "stdout",
     "output_type": "stream",
     "text": [
      "DataFrame from CSV:\n",
      "        name  age gender  occupation\n",
      "0     Alice   25      F  Programmer\n",
      "1       Anu   30      M     Manager\n",
      "2   Charlie   22      M     Analyst\n",
      "3     David   35      M  Programmer\n",
      "4     Nithy   28      F     Manager\n",
      "5  Franklin   40      M     Analyst\n",
      "6     Grace   27      F  Programmer\n",
      "7     Nimmy   31      F     Manager\n",
      "8      Nila   29      M     Analyst\n",
      "9      Janu   26      F  Programmer\n"
     ]
    }
   ],
   "source": [
    "# Save to CSV\n",
    "df.to_csv(\"people_data.csv\", index=False)\n",
    "\n",
    "# Read from CSV\n",
    "df_from_csv = pd.read_csv(\"people_data.csv\")\n",
    "print(\"DataFrame from CSV:\\n\", df_from_csv)"
   ]
  }
 ],
 "metadata": {
  "kernelspec": {
   "display_name": "Python [conda env:anaconda3] *",
   "language": "python",
   "name": "conda-env-anaconda3-py"
  },
  "language_info": {
   "codemirror_mode": {
    "name": "ipython",
    "version": 3
   },
   "file_extension": ".py",
   "mimetype": "text/x-python",
   "name": "python",
   "nbconvert_exporter": "python",
   "pygments_lexer": "ipython3",
   "version": "3.12.7"
  }
 },
 "nbformat": 4,
 "nbformat_minor": 5
}
