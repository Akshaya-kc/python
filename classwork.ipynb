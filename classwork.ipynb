{
 "cells": [
  {
   "cell_type": "code",
   "execution_count": 6,
   "id": "49d94af3-ae9d-445c-8d3f-d73a1fe5c69b",
   "metadata": {},
   "outputs": [
    {
     "name": "stdout",
     "output_type": "stream",
     "text": [
      "10\n",
      "9\n",
      "8\n",
      "7\n",
      "6\n",
      "5\n",
      "4\n",
      "3\n",
      "2\n",
      "1\n"
     ]
    }
   ],
   "source": [
    "i=10\n",
    "while i>0:\n",
    "    print(i)\n",
    "    i=i-1"
   ]
  },
  {
   "cell_type": "code",
   "execution_count": 16,
   "id": "b01ca001-62bf-4bf8-95f6-3d22da8ca651",
   "metadata": {},
   "outputs": [
    {
     "name": "stdout",
     "output_type": "stream",
     "text": [
      "p\n"
     ]
    },
    {
     "data": {
      "text/plain": [
       "'n'"
      ]
     },
     "execution_count": 16,
     "metadata": {},
     "output_type": "execute_result"
    }
   ],
   "source": [
    "s=\"python\"\n",
    "print(s[0])\n",
    "s[1:4]\n",
    "s[5]"
   ]
  },
  {
   "cell_type": "code",
   "execution_count": 17,
   "id": "b1a100be-bc86-4f69-a333-34fc9f86e077",
   "metadata": {},
   "outputs": [
    {
     "data": {
      "text/plain": [
       "'yth'"
      ]
     },
     "execution_count": 17,
     "metadata": {},
     "output_type": "execute_result"
    }
   ],
   "source": [
    "s[1:4]"
   ]
  },
  {
   "cell_type": "code",
   "execution_count": 19,
   "id": "ee31e1e7-4e2b-48ed-a108-bc8953efa7fb",
   "metadata": {},
   "outputs": [
    {
     "data": {
      "text/plain": [
       "'g'"
      ]
     },
     "execution_count": 19,
     "metadata": {},
     "output_type": "execute_result"
    }
   ],
   "source": [
    "a=\"programming\"\n",
    "a[3]"
   ]
  },
  {
   "cell_type": "code",
   "execution_count": 20,
   "id": "05c9794f-9b0b-4320-8f1f-9cbe40ee0a0d",
   "metadata": {},
   "outputs": [
    {
     "data": {
      "text/plain": [
       "'rogra'"
      ]
     },
     "execution_count": 20,
     "metadata": {},
     "output_type": "execute_result"
    }
   ],
   "source": [
    "a[1:6]"
   ]
  },
  {
   "cell_type": "code",
   "execution_count": 22,
   "id": "1afbd3ae-e099-4e8d-8ad1-8ab20ba2d1a0",
   "metadata": {},
   "outputs": [
    {
     "data": {
      "text/plain": [
       "'ing'"
      ]
     },
     "execution_count": 22,
     "metadata": {},
     "output_type": "execute_result"
    }
   ],
   "source": [
    "a[8:11]"
   ]
  },
  {
   "cell_type": "code",
   "execution_count": 25,
   "id": "2dcfcc64-3725-431e-bf18-7b1091fe49ec",
   "metadata": {},
   "outputs": [
    {
     "data": {
      "text/plain": [
       "'0987654321'"
      ]
     },
     "execution_count": 25,
     "metadata": {},
     "output_type": "execute_result"
    }
   ],
   "source": [
    "a=\"1234567890\"\n",
    "a[::-1]"
   ]
  },
  {
   "cell_type": "code",
   "execution_count": 30,
   "id": "1a2a6c06-ad02-4602-87ee-90179a81dde1",
   "metadata": {},
   "outputs": [
    {
     "name": "stdout",
     "output_type": "stream",
     "text": [
      "1\n",
      "2\n",
      "3\n",
      "4\n",
      "5\n",
      "6\n",
      "7\n",
      "8\n",
      "9\n",
      "0\n"
     ]
    }
   ],
   "source": [
    "for i in a:\n",
    "    print (i)\n",
    "\n"
   ]
  },
  {
   "cell_type": "code",
   "execution_count": 31,
   "id": "672dde9f-2b64-47ca-8535-acaea57c8372",
   "metadata": {},
   "outputs": [
    {
     "data": {
      "text/plain": [
       "'13579'"
      ]
     },
     "execution_count": 31,
     "metadata": {},
     "output_type": "execute_result"
    }
   ],
   "source": [
    "a[::2]"
   ]
  },
  {
   "cell_type": "code",
   "execution_count": 35,
   "id": "b1c8a7b3-bd63-4e76-acea-fa3b18382bec",
   "metadata": {},
   "outputs": [
    {
     "name": "stdout",
     "output_type": "stream",
     "text": [
      "s1 shorter\n"
     ]
    }
   ],
   "source": [
    "s1=\"apple\"\n",
    "s2=\"banana\"\n",
    "if len(s1)<len(s2):\n",
    "  print(\"s1 shorter\")\n",
    "else:\n",
    "  print(\"s2 shorter\")"
   ]
  },
  {
   "cell_type": "code",
   "execution_count": 47,
   "id": "ede1ba65-6957-4210-bf3c-0835b0bd6232",
   "metadata": {},
   "outputs": [
    {
     "name": "stdout",
     "output_type": "stream",
     "text": [
      "contains digit\n"
     ]
    }
   ],
   "source": [
    "s=\"abc123xyz\"\n",
    "if s[3].isdigit():\n",
    "    print(\"contains digit\")\n",
    "else:\n",
    "    print(\"no digit at that position\")"
   ]
  },
  {
   "cell_type": "code",
   "execution_count": 51,
   "id": "e1b6aecb-13aa-4fd9-8387-cd5e438b0e9f",
   "metadata": {},
   "outputs": [
    {
     "name": "stdout",
     "output_type": "stream",
     "text": [
      "uppercase\n"
     ]
    }
   ],
   "source": [
    "d=\"A\"\n",
    "if d.isupper():\n",
    "    print(\"uppercase\")\n",
    "else:\n",
    "    print(\"not uppercase\")"
   ]
  },
  {
   "cell_type": "code",
   "execution_count": 56,
   "id": "2db52552-582b-447a-ab4f-3cc5bf4d4f0e",
   "metadata": {},
   "outputs": [
    {
     "name": "stdout",
     "output_type": "stream",
     "text": [
      "starts with h\n"
     ]
    }
   ],
   "source": [
    "s=\"hello world\"\n",
    "if s[0]=='h':\n",
    "    print(\"starts with h\")\n",
    "else:\n",
    "    print(\"does not start with h\")"
   ]
  },
  {
   "cell_type": "code",
   "execution_count": 62,
   "id": "72bc5b55-49c9-406f-8645-f50bcd1ca461",
   "metadata": {},
   "outputs": [
    {
     "name": "stdout",
     "output_type": "stream",
     "text": [
      "ends with g\n"
     ]
    }
   ],
   "source": [
    "s=\"coding\"\n",
    "if s[5]=='g':\n",
    "    print(\"ends with g\")\n",
    "else :\n",
    "    print(\"does not end with g\")\n"
   ]
  },
  {
   "cell_type": "code",
   "execution_count": 70,
   "id": "8ffe57bc-31bf-41d7-b254-54f2ea2b01ad",
   "metadata": {},
   "outputs": [
    {
     "name": "stdout",
     "output_type": "stream",
     "text": [
      "all caps\n"
     ]
    }
   ],
   "source": [
    "d=\"ERROR\"\n",
    "if d[0].isupper() and d[4].isupper():\n",
    "    print(\"all caps\")\n",
    "else:\n",
    "    print(\"not all caps\")\n",
    "\n",
    " \n"
   ]
  },
  {
   "cell_type": "code",
   "execution_count": 76,
   "id": "8f762022-f2a5-4b3d-b632-00639ee9fca2",
   "metadata": {},
   "outputs": [
    {
     "name": "stdin",
     "output_type": "stream",
     "text": [
      "enter a string madam\n"
     ]
    },
    {
     "name": "stdout",
     "output_type": "stream",
     "text": [
      "yes\n"
     ]
    }
   ],
   "source": [
    "s=input (\"enter a string\")\n",
    "if s[::1]==s[::-1]:\n",
    "    print(\"yes\")\n",
    "else :\n",
    "    print(\"no\")\n",
    "    "
   ]
  }
 ],
 "metadata": {
  "kernelspec": {
   "display_name": "Python [conda env:base] *",
   "language": "python",
   "name": "conda-base-py"
  },
  "language_info": {
   "codemirror_mode": {
    "name": "ipython",
    "version": 3
   },
   "file_extension": ".py",
   "mimetype": "text/x-python",
   "name": "python",
   "nbconvert_exporter": "python",
   "pygments_lexer": "ipython3",
   "version": "3.12.7"
  }
 },
 "nbformat": 4,
 "nbformat_minor": 5
}
