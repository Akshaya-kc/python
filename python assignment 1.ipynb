{
 "cells": [
  {
   "cell_type": "code",
   "execution_count": 1,
   "id": "6c5ff08e-dcbd-4316-aa7c-0ada1af590de",
   "metadata": {},
   "outputs": [
    {
     "name": "stdout",
     "output_type": "stream",
     "text": [
      "AKSHAYA\n",
      "DSML47\n",
      "akshayakc.asc@gmail.com\n"
     ]
    }
   ],
   "source": [
    "print(\"AKSHAYA\")\n",
    "print( \"DSML47\") \n",
    "print(\"akshayakc.asc@gmail.com\")"
   ]
  },
  {
   "cell_type": "code",
   "execution_count": 2,
   "id": "8d68d244-6737-47ed-889b-0b7489db8f89",
   "metadata": {},
   "outputs": [
    {
     "name": "stdout",
     "output_type": "stream",
     "text": [
      "AKSHAYA\n",
      "DSML47\n",
      "akshayakc.asc@gmail.com\n"
     ]
    }
   ],
   "source": [
    "print(\"AKSHAYA\\nDSML47\\nakshayakc.asc@gmail.com\")"
   ]
  },
  {
   "cell_type": "code",
   "execution_count": 3,
   "id": "e69190a3-07a6-4f61-8656-1089c25b8095",
   "metadata": {},
   "outputs": [
    {
     "name": "stdout",
     "output_type": "stream",
     "text": [
      "14+7= 21\n"
     ]
    }
   ],
   "source": [
    "NUMBER1=14\n",
    "NUMBER2=7\n",
    "add=NUMBER1+NUMBER2\n",
    "print(\"14+7=\", add)"
   ]
  },
  {
   "cell_type": "code",
   "execution_count": 4,
   "id": "3ba1d89f-8b70-4077-9697-53d39c4dd5bb",
   "metadata": {},
   "outputs": [
    {
     "name": "stdout",
     "output_type": "stream",
     "text": [
      "14*7= 98\n"
     ]
    }
   ],
   "source": [
    "NUMBER1=14\n",
    "NUMBER2=7\n",
    "multiplication=NUMBER1*NUMBER2\n",
    "print(\"14*7=\",multiplication)"
   ]
  },
  {
   "cell_type": "code",
   "execution_count": 5,
   "id": "892c3f46-02c1-4851-bd28-60d1c3884245",
   "metadata": {},
   "outputs": [
    {
     "name": "stdout",
     "output_type": "stream",
     "text": [
      "14-7= 7\n"
     ]
    }
   ],
   "source": [
    "NUMBER1=14\n",
    "NUMBER2=7\n",
    "sub=NUMBER1-NUMBER2\n",
    "print(\"14-7=\", sub)"
   ]
  },
  {
   "cell_type": "code",
   "execution_count": 6,
   "id": "c99f0a21-07e4-4ee8-ba9a-900b1419381b",
   "metadata": {},
   "outputs": [
    {
     "name": "stdout",
     "output_type": "stream",
     "text": [
      "14/7= 2.0\n"
     ]
    }
   ],
   "source": [
    "NUMBER1=14\n",
    "NUMBER2=7\n",
    "div=NUMBER1/NUMBER2\n",
    "print(\"14/7=\",div)"
   ]
  },
  {
   "cell_type": "code",
   "execution_count": 7,
   "id": "4c6288fa-a086-4d1b-9427-8c4ba31b7a67",
   "metadata": {},
   "outputs": [
    {
     "name": "stdout",
     "output_type": "stream",
     "text": [
      "1\n",
      "2\n",
      "3\n",
      "4\n",
      "5\n"
     ]
    }
   ],
   "source": [
    "print(\"1\\n2\\n3\\n4\\n5\")\n"
   ]
  },
  {
   "cell_type": "code",
   "execution_count": 8,
   "id": "48135c16-b64c-40eb-a101-45cdc1508c51",
   "metadata": {},
   "outputs": [
    {
     "name": "stdout",
     "output_type": "stream",
     "text": [
      "\"SDK\" stands for  \"Software Development Kit\" whereas \n",
      "\"IDE\" stands for \"Integrated Development Environment\".\n"
     ]
    }
   ],
   "source": [
    "print(\"\\\"SDK\\\" stands for  \\\"Software Development Kit\\\" whereas \\n\\\"IDE\\\" stands for \\\"Integrated Development Environment\\\".\")\n",
    "    "
   ]
  },
  {
   "cell_type": "code",
   "execution_count": 9,
   "id": "710216fe-c0bc-4950-8dcf-0a4de6ff7b18",
   "metadata": {},
   "outputs": [
    {
     "name": "stdout",
     "output_type": "stream",
     "text": [
      "python is an \"awesome\" language.\n",
      "python\n",
      "\t2023\n",
      "I'm from Entri\n",
      "5\n",
      "e\n",
      "Entri\n",
      "2023\n",
      "Entr2023\n",
      "Entri*20"
     ]
    }
   ],
   "source": [
    "print(\"python is an \\\"awesome\\\" language.\")\n",
    "print(\"python\\n\\t2023\")\n",
    "print('I\\'m from Entri.\\b')\n",
    "print(\"\\65\")\n",
    "print(\"\\x65\")\n",
    "print(\"Entri\",\"2023\",sep=\"\\n\")\n",
    "print(\"Entri\",\"2023\",sep=\"\\b\")\n",
    "print(\"Entri\",\"2023\",sep=\"*\",end=\"\\b\\b\\b\\b\")"
   ]
  },
  {
   "cell_type": "code",
   "execution_count": 10,
   "id": "671c4131-5dd1-44aa-8817-b558f1af1a71",
   "metadata": {},
   "outputs": [
    {
     "name": "stdout",
     "output_type": "stream",
     "text": [
      "total no of minutes in a year= 525600\n"
     ]
    }
   ],
   "source": [
    "no_of_days_in_a_year=365\n",
    "no_of_hours_in_a_day=24\n",
    "no_of_minutes_in_an_hour=60\n",
    "no_of_minutes_in_a_year=no_of_days_in_a_year*no_of_hours_in_a_day*no_of_minutes_in_an_hour\n",
    "print(\"total no of minutes in a year=\",no_of_minutes_in_a_year)"
   ]
  },
  {
   "cell_type": "code",
   "execution_count": 34,
   "id": "2114916a-f4a6-4e65-a1e0-78a344dea1b4",
   "metadata": {},
   "outputs": [
    {
     "name": "stdin",
     "output_type": "stream",
     "text": [
      "enter name: akshaya\n"
     ]
    },
    {
     "name": "stdout",
     "output_type": "stream",
     "text": [
      "hi akshaya welcome to python programming\n"
     ]
    }
   ],
   "source": [
    "name=input(\"enter name:\")\n",
    "print(\"hi\",name, \"welcome to python programming\")"
   ]
  },
  {
   "cell_type": "code",
   "execution_count": 40,
   "id": "e96f05a3-e27a-434e-8991-fdd058e3b015",
   "metadata": {},
   "outputs": [
    {
     "name": "stdin",
     "output_type": "stream",
     "text": [
      "enter amount in pounds: 45\n"
     ]
    },
    {
     "name": "stdout",
     "output_type": "stream",
     "text": [
      "45.0 pounds are 123.75 dollar\n"
     ]
    }
   ],
   "source": [
    "##poundstodollars.py\n",
    "pounds=float(input(\"enter amount in pounds:\"))\n",
    "dollar=2.75*pounds\n",
    "print(pounds,\"pounds are\",dollar,\"dollar\")"
   ]
  },
  {
   "cell_type": "code",
   "execution_count": 1,
   "id": "24691d20-1119-40c5-9a8e-18babb2679e6",
   "metadata": {},
   "outputs": [],
   "source": [
    "num=23\n",
    "textnum=\"57\"\n",
    "decimal=98.3"
   ]
  },
  {
   "cell_type": "code",
   "execution_count": 11,
   "id": "a25ad040-b328-4b1b-aa7a-9859fe60b0a0",
   "metadata": {},
   "outputs": [
    {
     "name": "stdout",
     "output_type": "stream",
     "text": [
      "type of num= <class 'int'>\n",
      "type of textnum= <class 'str'>\n",
      "type of decimal= <class 'float'>\n"
     ]
    }
   ],
   "source": [
    "print(\"type of num=\",type(num))\n",
    "print(\"type of textnum=\",type(textnum))\n",
    "print(\"type of decimal=\",type(decimal))"
   ]
  },
  {
   "cell_type": "code",
   "execution_count": 13,
   "id": "58cb07d5-5f42-46d8-bcf5-3ddab99ef7dd",
   "metadata": {},
   "outputs": [],
   "source": [
    "sum=num+int(textnum)+decimal"
   ]
  },
  {
   "cell_type": "code",
   "execution_count": 15,
   "id": "15053364-e3aa-458d-a911-6b35b3ecd7f1",
   "metadata": {},
   "outputs": [
    {
     "name": "stdout",
     "output_type": "stream",
     "text": [
      "178.3\n"
     ]
    }
   ],
   "source": [
    "print(sum)"
   ]
  },
  {
   "cell_type": "code",
   "execution_count": 17,
   "id": "e5bb566d-b687-48b5-86c1-2b08260544c0",
   "metadata": {},
   "outputs": [
    {
     "data": {
      "text/plain": [
       "float"
      ]
     },
     "execution_count": 17,
     "metadata": {},
     "output_type": "execute_result"
    }
   ],
   "source": [
    "type(sum)"
   ]
  },
  {
   "cell_type": "code",
   "execution_count": null,
   "id": "5171923d-e6c7-425d-ad66-251f3b33a123",
   "metadata": {},
   "outputs": [],
   "source": []
  }
 ],
 "metadata": {
  "kernelspec": {
   "display_name": "Python [conda env:base] *",
   "language": "python",
   "name": "conda-base-py"
  },
  "language_info": {
   "codemirror_mode": {
    "name": "ipython",
    "version": 3
   },
   "file_extension": ".py",
   "mimetype": "text/x-python",
   "name": "python",
   "nbconvert_exporter": "python",
   "pygments_lexer": "ipython3",
   "version": "3.12.7"
  }
 },
 "nbformat": 4,
 "nbformat_minor": 5
}
